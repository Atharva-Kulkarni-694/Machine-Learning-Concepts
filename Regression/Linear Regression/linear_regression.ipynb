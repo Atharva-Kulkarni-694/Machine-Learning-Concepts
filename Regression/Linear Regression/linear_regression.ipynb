{
 "cells": [
  {
   "cell_type": "markdown",
   "id": "5b1975a2",
   "metadata": {},
   "source": [
    "# 1. Importing Required Libraries"
   ]
  },
  {
   "cell_type": "code",
   "execution_count": 11,
   "id": "110e2cb0",
   "metadata": {},
   "outputs": [],
   "source": [
    "import pandas as pd\n",
    "import numpy as np\n",
    "import matplotlib.pyplot as plt\n",
    "from sklearn.model_selection import train_test_split\n",
    "from sklearn.linear_model import LinearRegression\n",
    "from sklearn.metrics import mean_squared_error, r2_score"
   ]
  },
  {
   "cell_type": "markdown",
   "id": "dbc5177b",
   "metadata": {},
   "source": [
    "We import all the necessary libraries for our analysis :-\n",
    "\n",
    "pandas helps us work with data in table format (DataFrames)\n",
    "\n",
    "numpy provides mathematical functions and array operations\n",
    "\n",
    "matplotlib allows us to create visualizations and plots\n",
    "\n",
    "sklearn (scikit-learn) contains machine learning tools for model training and evaluation"
   ]
  },
  {
   "cell_type": "markdown",
   "id": "11d7919c",
   "metadata": {},
   "source": [
    "# 2. Defining the Linear Regression Function"
   ]
  },
  {
   "cell_type": "code",
   "execution_count": 12,
   "id": "2b6c9b70",
   "metadata": {},
   "outputs": [],
   "source": [
    "def linear_regression_from_csv(csv_file, feature_cols, target_col):\n",
    "    \"\"\"\n",
    "    Perform linear regression from CSV file\n",
    "    \n",
    "    Parameters:\n",
    "    csv_file (str): Path to CSV file\n",
    "    feature_cols (list): List of feature column names\n",
    "    target_col (str): Target column name\n",
    "    \"\"\""
   ]
  },
  {
   "cell_type": "markdown",
   "id": "fa12589c",
   "metadata": {},
   "source": [
    "We create a function that will perform all our linear regression steps\n",
    "\n",
    "This function takes three inputs:\n",
    "\n",
    "The path to our data file (CSV format)\n",
    "\n",
    "The column names we want to use as features (predictors)\n",
    "\n",
    "The column name we want to predict (target variable)\n",
    "\n"
   ]
  },
  {
   "cell_type": "markdown",
   "id": "398d81af",
   "metadata": {},
   "source": [
    "# 3. Loading and Preparing the Data"
   ]
  },
  {
   "cell_type": "code",
   "execution_count": 13,
   "id": "5e3c9c87",
   "metadata": {},
   "outputs": [],
   "source": [
    "    # Load data\n",
    "    df = pd.read_csv(\"Salary_dataset.csv\")\n",
    "    \n",
    "    # Prepare features and target\n",
    "    X = df[\"YearsExperience\"]\n",
    "    y = df[\"Salary\"]"
   ]
  },
  {
   "cell_type": "markdown",
   "id": "249d0770",
   "metadata": {},
   "source": [
    " \"pd.read_csv()\" reads our data file and converts it into a DataFrame (like a spreadsheet)\n",
    "\n",
    "We separate our data into:\n",
    "\n",
    "X: The features (input variables) we'll use to make predictions\n",
    "\n",
    "y: The target (output variable) we want to predict"
   ]
  },
  {
   "cell_type": "markdown",
   "id": "0a81bcc6",
   "metadata": {},
   "source": [
    "# 4. Splitting Data into Training and Testing Sets"
   ]
  },
  {
   "cell_type": "code",
   "execution_count": null,
   "id": "dc66b111",
   "metadata": {},
   "outputs": [],
   "source": [
    "    # Split data\n",
    "    X_train, X_test, y_train, y_test = train_test_split(X, y, test_size=0.2, random_state=42)"
   ]
  },
  {
   "cell_type": "markdown",
   "id": "0feeb65b",
   "metadata": {},
   "source": [
    "We divide our data into two parts:\n",
    "\n",
    "Training set (80%): Used to teach our model patterns in the data\n",
    "\n",
    "Testing set (20%): Used to evaluate how well our model performs on new, unseen data\n",
    "\n",
    "random_state=42 ensures we get the same split every time (for reproducibility)"
   ]
  },
  {
   "cell_type": "markdown",
   "id": "5efd6d63",
   "metadata": {},
   "source": [
    "# 5. Training the Linear Regression Model"
   ]
  },
  {
   "cell_type": "code",
   "execution_count": null,
   "id": "f72a051b",
   "metadata": {},
   "outputs": [],
   "source": [
    "    # Train model\n",
    "    model = LinearRegression()\n",
    "    model.fit(X_train, y_train)"
   ]
  },
  {
   "cell_type": "markdown",
   "id": "5ec3b5a1",
   "metadata": {},
   "source": [
    "We create a Linear Regression model object\n",
    "\n",
    "The fit() method trains the model using our training data\n",
    "\n",
    "The model learns the relationship between our features (X_train) and target (y_train)"
   ]
  },
  {
   "cell_type": "markdown",
   "id": "b62d7e73",
   "metadata": {},
   "source": [
    "# 6. Making Predictions with Our Model"
   ]
  },
  {
   "cell_type": "code",
   "execution_count": null,
   "id": "ac2f296e",
   "metadata": {},
   "outputs": [],
   "source": [
    "    # Make predictions\n",
    "    y_pred = model.predict(X_test)"
   ]
  },
  {
   "cell_type": "markdown",
   "id": "c6bc6089",
   "metadata": {},
   "source": [
    "We use our trained model to predict values for our test features\n",
    "\n",
    "y_pred contains the model's predictions for what the target values should be\n",
    "\n",
    "We'll compare these predictions to the actual values (y_test) to evaluate performance"
   ]
  },
  {
   "cell_type": "markdown",
   "id": "7d6a458f",
   "metadata": {},
   "source": [
    "# 7. Evaluating Model Performance"
   ]
  },
  {
   "cell_type": "code",
   "execution_count": null,
   "id": "f0585eea",
   "metadata": {},
   "outputs": [],
   "source": [
    "    # Calculate metrics\n",
    "    mse = mean_squared_error(y_test, y_pred)\n",
    "    r2 = r2_score(y_test, y_pred)"
   ]
  },
  {
   "cell_type": "markdown",
   "id": "39534d4c",
   "metadata": {},
   "source": []
  }
 ],
 "metadata": {
  "kernelspec": {
   "display_name": "base",
   "language": "python",
   "name": "python3"
  },
  "language_info": {
   "codemirror_mode": {
    "name": "ipython",
    "version": 3
   },
   "file_extension": ".py",
   "mimetype": "text/x-python",
   "name": "python",
   "nbconvert_exporter": "python",
   "pygments_lexer": "ipython3",
   "version": "3.12.7"
  }
 },
 "nbformat": 4,
 "nbformat_minor": 5
}
